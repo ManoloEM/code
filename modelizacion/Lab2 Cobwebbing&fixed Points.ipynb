{
 "cells": [
  {
   "cell_type": "markdown",
   "metadata": {},
   "source": [
    "$$\n",
    "{%\n",
    "  \\large \\textbf{Lab2: Cobwebbing & fixed Points} \\\\\n",
    "    \\textit{by Manuel Enciso Martinez}}\n",
    "$$"
   ]
  },
  {
   "cell_type": "code",
   "execution_count": 1,
   "metadata": {},
   "outputs": [],
   "source": [
    "from pylab import *\n",
    "from numpy import *\n",
    "\n",
    "\"DATA\"\n",
    "k = 100\n",
    "r = 1.5"
   ]
  },
  {
   "cell_type": "markdown",
   "metadata": {},
   "source": [
    "4.1 - Describe the biological interpretation of the model:\n",
    "\n",
    "The Rick model could be implemented to simulate a population that grows very fast in the beginning. \n",
    "when there are few (less than $k$) and when the population reaches its maximum (i.e., $k$). starts to decrease. In the method, the constant $r$ is used to amplify the increase/decrease of the population."
   ]
  },
  {
   "cell_type": "markdown",
   "metadata": {},
   "source": [
    "4.2 - Determine any non-negative steady states and their linear stability\n",
    "\n",
    "$f(x) = xe^{r(1-\\frac{x}{k})}$ then $f(x) = x \\iff x = 0$ or $e^{r(1-\\frac{x}{k})}=1 \\iff r(1-\\frac{x}{k}) = 0 \\iff x=k$ since $r>0$\n",
    "\n",
    "Steady states are 0 and K and since $f'(x) = e^{r(1-\\frac{x}{k})}-\\frac{x}{k}e^{r(1-\\frac{x}{k})} = e^{r(1-\\frac{x}{k})}(1-\\frac{x}{k}) = 0$ for $x = k$. Then we can say that the fixed point $x = k$ is stable."
   ]
  },
  {
   "cell_type": "markdown",
   "metadata": {},
   "source": [
    "4.3 - Construct a cobweb map the model and discuss the global qualitative\n",
    "behaviour of the solutions."
   ]
  },
  {
   "cell_type": "code",
   "execution_count": 3,
   "metadata": {},
   "outputs": [
    {
     "data": {
      "text/plain": [
       "()"
      ]
     },
     "execution_count": 3,
     "metadata": {},
     "output_type": "execute_result"
    },
    {
     "data": {
      "image/png": "[encoded data removed]",
      "text/plain": [
       "<Figure size 432x288 with 1 Axes>"
      ]
     },
     "metadata": {
      "needs_background": "light"
     },
     "output_type": "display_data"
    }
   ],
   "source": [
    "\n",
    "def LNdays(n):\n",
    "    A = zeros(n)\n",
    "    for i in range(n):\n",
    "        A[i] = i\n",
    "    return(A)\n",
    "\n",
    "def fun(x):\n",
    "    return(x*exp(r*(1-x/k)))\n",
    "\n",
    "def graf3(): \n",
    "    figure('cobweb map')\n",
    "    xlabel('Days')\n",
    "    ylabel('Density')\n",
    "    D =LNdays(k+10)\n",
    "    Rep =linspace(0.1,120,500)\n",
    "    plot(D,D,'-',color='blue') # line y = x\n",
    "    #Plot of Nn+1 vs Nn\n",
    "    LNn = zeros(500)\n",
    "    for i in range(500):\n",
    "        LNn[i] = fun(Rep[i])\n",
    "    plot(Rep,LNn ,'-',color='black')\n",
    "    Nn = 2 #day 0 start 2 mean density\n",
    "    plot([Nn,Nn],[0,fun(Nn)],'-',color='red')\n",
    "    for j in range(15):\n",
    "        #Une los puntos: (x,x) con (x,fun(x)) y (x,fun(x)) con (fun(x),fun(x))\n",
    "        plot([Nn,Nn,fun(Nn)],[Nn,fun(Nn),fun(Nn)],'-',color='red') \n",
    "        Nn = fun(Nn)\n",
    "    return()\n",
    "\n",
    "graf3()\n"
   ]
  },
  {
   "cell_type": "markdown",
   "metadata": {},
   "source": [
    "$\\textit{Using GeoGebra, we can easily see how the value of $r$ affects the graphic.}$https://www.geogebra.org/calculator/uczvmqkm"
   ]
  }
 ],
 "metadata": {
  "kernelspec": {
   "display_name": "Python 3",
   "language": "python",
   "name": "python3"
  },
  "language_info": {
   "codemirror_mode": {
    "name": "ipython",
    "version": 3
   },
   "file_extension": ".py",
   "mimetype": "text/x-python",
   "name": "python",
   "nbconvert_exporter": "python",
   "pygments_lexer": "ipython3",
   "version": "3.8.3"
  }
 },
 "nbformat": 4,
 "nbformat_minor": 4
}
