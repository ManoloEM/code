{
 "cells": [
  {
   "cell_type": "markdown",
   "metadata": {},
   "source": [
    "$$\n",
    "{%\n",
    "  \\large \\textbf{Lab3:  Age structured population} \\\\\n",
    "    \\textit{by Manuel Enciso Martinez}}\n",
    "$$"
   ]
  },
  {
   "cell_type": "code",
   "execution_count": 1,
   "metadata": {},
   "outputs": [],
   "source": [
    "from pylab import *\n",
    "from numpy import *"
   ]
  },
  {
   "cell_type": "markdown",
   "metadata": {},
   "source": [
    "6.1 - Build the Leslie matrix.\n",
    "\n",
    "$s_0 = \\frac{1}{2}$ Since $\\textit{\"Half of the newborns become youngsters\"}$.\n",
    "\n",
    "$s_1 = \\frac{2}{3}$ Since $\\textit{\"2/3 of youngsters grow to adulthood\"}$.\n",
    "\n",
    "And since $\\textit{\"The newborns have 0.5 offsprings per year, the youngsters 5 and the adult 3\"}$.\n",
    "\n",
    "$f_0 = \\frac{1}{2}$\n",
    "\n",
    "$f_1 = 5$\n",
    "\n",
    "$f_2 = 3$"
   ]
  },
  {
   "cell_type": "code",
   "execution_count": 2,
   "metadata": {},
   "outputs": [
    {
     "name": "stdout",
     "output_type": "stream",
     "text": [
      "Leslie matrix:\n",
      " [[0.5        5.         3.        ]\n",
      " [0.5        0.         0.        ]\n",
      " [0.         0.66666667 0.        ]]\n"
     ]
    }
   ],
   "source": [
    "s0 = 1/2 \n",
    "s1 = 2/3 \n",
    "\n",
    "f0 = 1/2\n",
    "f1 = 5\n",
    "f2 = 3\n",
    "\n",
    "L = array([[f0,f1,f2],[s0,0,0],[0,s1,0]]) #Leslie matrix\n",
    "\n",
    "print('Leslie matrix:\\n',L)"
   ]
  },
  {
   "cell_type": "markdown",
   "metadata": {},
   "source": [
    "6.2 - Find the asymptotic growth rate and stable age distribution.\n",
    "\n",
    "Lets compute eigenvalues and eigenvectors of L"
   ]
  },
  {
   "cell_type": "code",
   "execution_count": 3,
   "metadata": {},
   "outputs": [],
   "source": [
    "u, v = eig(L)"
   ]
  },
  {
   "cell_type": "markdown",
   "metadata": {},
   "source": [
    "Where u is a vector of the L eigenvalues and v is a vector of the L eigenvectors.\n",
    "\n",
    "Since the dominant eigenvalue of L gives the asymptotic growth rate of the population, let's compute the max eigenvalue."
   ]
  },
  {
   "cell_type": "code",
   "execution_count": 4,
   "metadata": {},
   "outputs": [
    {
     "name": "stdout",
     "output_type": "stream",
     "text": [
      "1.9999999999999967\n"
     ]
    }
   ],
   "source": [
    "eigValue = max(u)\n",
    "print(eigValue)"
   ]
  },
  {
   "cell_type": "markdown",
   "metadata": {},
   "source": [
    "The dominant eigenvalue is $1.9999999999999967$, which is the first eigenvector."
   ]
  },
  {
   "cell_type": "code",
   "execution_count": 5,
   "metadata": {},
   "outputs": [
    {
     "name": "stdout",
     "output_type": "stream",
     "text": [
      "[0.96698756 0.24174689 0.0805823 ]\n"
     ]
    }
   ],
   "source": [
    "eigVector = transpose(v)[0] #we are selecting the column vector\n",
    "print(eigVector)"
   ]
  },
  {
   "cell_type": "markdown",
   "metadata": {},
   "source": [
    "Then the proportion of individuals of each age within the population is just each value of eigvector divided by the total [i.e sum(eigVector)]."
   ]
  },
  {
   "cell_type": "code",
   "execution_count": 6,
   "metadata": {},
   "outputs": [
    {
     "name": "stdout",
     "output_type": "stream",
     "text": [
      "[·]Newborns rates: 0.7499999999999999 \n",
      "[·]Youngsters rates: 0.1875000000000001 \n",
      "[·]Adult rates: 0.062499999999999986\n"
     ]
    }
   ],
   "source": [
    "total = sum(eigVector)\n",
    "newbornsRates = eigVector[0]/total\n",
    "youngstersRates = eigVector[1]/total\n",
    "adultRates = eigVector[2]/total\n",
    "\n",
    "print('[·]Newborns rates:',newbornsRates,'\\n[·]Youngsters rates:',youngstersRates,'\\n[·]Adult rates:',adultRates)"
   ]
  },
  {
   "cell_type": "markdown",
   "metadata": {},
   "source": [
    "6.3 - Illustrate your finding with numerical results."
   ]
  },
  {
   "cell_type": "code",
   "execution_count": 8,
   "metadata": {},
   "outputs": [
    {
     "name": "stdout",
     "output_type": "stream",
     "text": [
      "Year 0:\n",
      "[·]Newborns: 0 \n",
      "[·]Youngsters: 2 \n",
      "[·]Adult: 4\n",
      "\n",
      "Year  1 :\n",
      "[·]Newborns: 22.0 \n",
      "[·]Youngsters: 0.0 \n",
      "[·]Adult: 1.3333333333333333\n",
      "\n",
      "Year  2 :\n",
      "[·]Newborns: 15.0 \n",
      "[·]Youngsters: 11.0 \n",
      "[·]Adult: 0.0\n",
      "\n",
      "Year  3 :\n",
      "[·]Newborns: 62.5 \n",
      "[·]Youngsters: 7.5 \n",
      "[·]Adult: 7.333333333333333\n",
      "\n",
      "Year  4 :\n",
      "[·]Newborns: 90.75 \n",
      "[·]Youngsters: 31.25 \n",
      "[·]Adult: 5.0\n",
      "\n",
      "Year  5 :\n",
      "[·]Newborns: 216.625 \n",
      "[·]Youngsters: 45.375 \n",
      "[·]Adult: 20.833333333333332\n",
      "\n",
      "#Note: Using Exercise 6.2, lets check if the estimate we have is close to the results of the year 5 :\n",
      "[·]Newborns 216.625 vs Newborns estimation 212.12499999999994 \n",
      "[·]Youngsters 45.375 vs Youngsters estimation 53.03125000000003 \n",
      "[·]Adult 20.833333333333332 vs Adult estimation 17.67708333333333\n"
     ]
    },
    {
     "data": {
      "image/png": "[encoded data removed]",
      "text/plain": [
       "<Figure size 432x288 with 1 Axes>"
      ]
     },
     "metadata": {
      "needs_background": "light"
     },
     "output_type": "display_data"
    }
   ],
   "source": [
    "def z0(z):\n",
    "    return(f0*z[0]+f1*z[1]+f2*z[2])\n",
    "\n",
    "def z1(z):\n",
    "    return(s0*z[0])\n",
    "\n",
    "def z2(z):\n",
    "    return(s1*z[1])\n",
    "\n",
    "def simulation():\n",
    "    Z = array([0,2,4]) #starting values of each ages\n",
    "    years = 5 #time of the study\n",
    "    figure('Simulation')\n",
    "    xlabel('Years')\n",
    "    ylabel('Density')\n",
    "    plot(0,Z[0] ,'o',color='black')\n",
    "    plot(0,Z[1] ,'o',color='blue')\n",
    "    plot(0,Z[2] ,'o',color='red')\n",
    "    legend(['Newborns', 'Youngsters','Adult'])\n",
    "    print('Year 0:\\n[·]Newborns:',Z[0],'\\n[·]Youngsters:',Z[1],'\\n[·]Adult:',Z[2])\n",
    "    for i in range(years):\n",
    "        Z0 = z0(Z)\n",
    "        Z1 = z1(Z)\n",
    "        Z2 = z2(Z)\n",
    "        print('\\nYear ',i+1,':\\n[·]Newborns:',Z0,'\\n[·]Youngsters:',Z1,'\\n[·]Adult:',Z2)\n",
    "        plot(i+1,Z0 ,'o',color='black')\n",
    "        plot(i+1,Z1 ,'o',color='blue')\n",
    "        plot(i+1,Z2 ,'o',color='red')\n",
    "        Z = array([Z0,Z1,Z2])\n",
    "    return(print('\\n#Note: Using Exercise 6.2, lets check if the estimate we have is close to the results of the year',years,':\\n[·]Newborns',Z0,'vs Newborns estimation',sum(Z)*newbornsRates,'\\n[·]Youngsters',Z1,'vs Youngsters estimation',sum(Z)*youngstersRates,'\\n[·]Adult',Z2,'vs Adult estimation',sum(Z)*adultRates,))\n",
    "\n",
    "simulation()\n",
    "\n"
   ]
  }
 ],
 "metadata": {
  "kernelspec": {
   "display_name": "Python 3",
   "language": "python",
   "name": "python3"
  },
  "language_info": {
   "codemirror_mode": {
    "name": "ipython",
    "version": 3
   },
   "file_extension": ".py",
   "mimetype": "text/x-python",
   "name": "python",
   "nbconvert_exporter": "python",
   "pygments_lexer": "ipython3",
   "version": "3.8.3"
  }
 },
 "nbformat": 4,
 "nbformat_minor": 4
}
