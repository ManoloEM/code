{
 "cells": [
  {
   "cell_type": "markdown",
   "metadata": {},
   "source": [
    "## Práctica 9. "
   ]
  },
  {
   "cell_type": "code",
   "execution_count": 1,
   "metadata": {},
   "outputs": [],
   "source": [
    "# Cargamos los módulos necesarios\n",
    "from numpy import *\n",
    "from numpy.linalg import *\n",
    "from numpy import abs, sum, max, min\n",
    "from algoritmos import *"
   ]
  },
  {
   "cell_type": "markdown",
   "metadata": {},
   "source": [
    "Se considera el sistema de ecuaciones lineales $AX=B$, donde \n",
    "\n",
    "$$A=\\begin{pmatrix}\n",
    "-33 & 36 & -27 & 18 & -9\\\\\n",
    "-33 & 51 & -45 & 30 & -15\\\\\n",
    "-19 & 38 & -45 & 34 & -17\\\\\n",
    "-9 & 18 & -27 & 27 & -15\\\\\n",
    "-3 & 6 & -9 & 12 & -9\n",
    "\\end{pmatrix},\n",
    "\\quad X=\\begin{pmatrix} x_1 \\\\ x_2\\\\ x_3\\\\ x_4\\\\ x_5 \\end{pmatrix}\\quad \\text{y} \\quad B=\\begin{pmatrix} 120 \\\\ 186\\\\ 162\\\\ 99\\\\ 36 \\end{pmatrix}\n",
    "$$\n"
   ]
  },
  {
   "cell_type": "markdown",
   "metadata": {},
   "source": [
    "**Ejercicio 1.** \n",
    "Al aplicar el método de Gauss con estrategia de pivot parcial al sistema anterior, se obtiene un sistema triangular superior equivalente, que posteriormente se resuelve mediante un proceso de remonte. Escribir dicho sistema triangular superior."
   ]
  },
  {
   "cell_type": "markdown",
   "metadata": {},
   "source": [
    "-------"
   ]
  },
  {
   "cell_type": "code",
   "execution_count": 11,
   "metadata": {},
   "outputs": [
    {
     "name": "stdout",
     "output_type": "stream",
     "text": [
      "El sistema triangular superior resultante es:\n",
      "A \n",
      " [[-33.          36.         -27.          18.          -9.        ]\n",
      " [  0.          17.27272727 -29.45454545  23.63636364 -11.81818182]\n",
      " [  0.           0.           7.57894737  -8.52631579   4.26315789]\n",
      " [  0.           0.           0.           4.5         -3.75      ]\n",
      " [  0.           0.           0.           0.          -1.5       ]]\n",
      "B \n",
      " [[120.        ]\n",
      " [ 92.90909091]\n",
      " [-14.68421053]\n",
      " [ 11.25      ]\n",
      " [ -4.5       ]]\n"
     ]
    }
   ],
   "source": [
    "A = array([[-33,36,-27,18,-9],[-33,51,-45,30,-15],[-19,38,-45,34,-17],[-9,18,-27,27,-15],[-3,6,-9,12,-9]])\n",
    "B = array([[120],[186],[162],[99],[36]])\n",
    "E, SX, TA, TB = gauss_pp(A, B)\n",
    "print('El sistema triangular superior resultante es:')\n",
    "print('A \\n',triu(TA))\n",
    "print('B \\n',TB)"
   ]
  },
  {
   "cell_type": "markdown",
   "metadata": {},
   "source": [
    "**Ejercicio 2.** Escribir la solución de dicho sistema, resuelto mediante el método de Gauss con estrategia de pívot parcial.\n"
   ]
  },
  {
   "cell_type": "markdown",
   "metadata": {},
   "source": [
    "-------"
   ]
  },
  {
   "cell_type": "code",
   "execution_count": 14,
   "metadata": {},
   "outputs": [
    {
     "name": "stdout",
     "output_type": "stream",
     "text": [
      "La solucion al sistema es X = \n",
      " [[1.]\n",
      " [4.]\n",
      " [2.]\n",
      " [5.]\n",
      " [3.]]\n"
     ]
    }
   ],
   "source": [
    "#Tan solo tenemos que usar del ejercico anterior SX, que es la solucion al sistema anteriormente calculado con gauss_pp\n",
    "print('La solucion al sistema es X = \\n',SX)\n"
   ]
  },
  {
   "cell_type": "markdown",
   "metadata": {},
   "source": [
    "**Ejercicio 3.** Escribir, si es posible, la factorización LU de la matriz A."
   ]
  },
  {
   "cell_type": "markdown",
   "metadata": {},
   "source": [
    "-------"
   ]
  },
  {
   "cell_type": "code",
   "execution_count": 20,
   "metadata": {},
   "outputs": [
    {
     "name": "stdout",
     "output_type": "stream",
     "text": [
      "La factoriazacion de la matriz A por el metodo LU es L@U = A, donde:\n",
      "L es la matriz:\n",
      " [[1.         0.         0.         0.         0.        ]\n",
      " [1.         1.         0.         0.         0.        ]\n",
      " [0.57575758 1.15151515 1.         0.         0.        ]\n",
      " [0.27272727 0.54545455 1.125      1.         0.        ]\n",
      " [0.09090909 0.18181818 0.375      1.         1.        ]]\n",
      "U es la matriz:\n",
      " [[-33.          36.         -27.          18.          -9.        ]\n",
      " [  0.          15.         -18.          12.          -6.        ]\n",
      " [  0.           0.          -8.72727273   9.81818182  -4.90909091]\n",
      " [  0.           0.           0.           4.5         -3.75      ]\n",
      " [  0.           0.           0.           0.          -1.5       ]]\n"
     ]
    }
   ],
   "source": [
    "E,LU = facto_lu(A)\n",
    "#Pero LU no es la matriz L y la matriz U, tenemos que \"transformar LU en L y U\" usando la teoria.\n",
    "#L es triangular inf con 1 en diagonal, por lo que:\n",
    "L = tril(LU, k=-1) + eye(5)\n",
    "#U es triangular superior:\n",
    "U = triu(LU)\n",
    "\n",
    "print('La factoriazacion de la matriz A por el metodo LU es L@U = A, donde:')\n",
    "print('L es la matriz:\\n',L)\n",
    "print('U es la matriz:\\n',U)\n"
   ]
  },
  {
   "cell_type": "markdown",
   "metadata": {},
   "source": [
    "**Ejercicio 4.** Se considera el sistema perturbado $A\\bar{X}=\\bar{B}$, donde\n",
    "\n",
    "$$\\bar{X}=X+\\delta X, \\qquad \\bar{B}=B+\\delta B, \\quad \\text{siendo} \\quad \\bar{B}=\\begin{pmatrix} 119 \\\\ 187\\\\ 162\\\\ 100\\\\ 35 \\end{pmatrix}$$\n",
    "\n",
    "Verificar la desigualdad \n",
    "\n",
    "$$\\frac{\\|\\delta X\\|_1}{\\|X\\|_1}\\leq \\text{cond}_1(A) \\frac{\\|\\delta B\\|_1}{\\|B\\|_1}$$\n",
    "\n",
    "Calculando todas las cantidades que aparecen en la misma."
   ]
  },
  {
   "cell_type": "markdown",
   "metadata": {},
   "source": [
    "-------"
   ]
  },
  {
   "cell_type": "code",
   "execution_count": 27,
   "metadata": {},
   "outputs": [
    {
     "name": "stdout",
     "output_type": "stream",
     "text": [
      "La desigualdad que se obtiene es:\n",
      "0.4488888888888864 <= 2.323051409618578\n"
     ]
    }
   ],
   "source": [
    "Bb = array([[119],[187],[162],[100],[35]])\n",
    "E, Xb, na, da = gauss_pp(A, Bb)\n",
    "dX = Xb - SX #despejar del enunciado delta de X\n",
    "dB = Bb - B #despejar del enunciado delta de B\n",
    "#usando los programas de normas matriciales.\n",
    "normdX = norma_mat(dX, 1)\n",
    "normX = norma_mat(SX, 1)\n",
    "normdB = norma_mat(dB, 1)\n",
    "normB = norma_mat(B, 1)\n",
    "#cond_!(A) es tan solo la multiplicacion de las normas matriciales de A y la inv de A\n",
    "normdA = norma_mat(A, 1)\n",
    "iA = inv(A)\n",
    "normdiA = norma_mat(iA, 1)\n",
    "cond = normdA * normdiA\n",
    "\n",
    "#Vamos a calcular el lado izq de la desigualdad.\n",
    "Izq = normdX / normX\n",
    "#Vamos a calcular el lado der de la desigualdad.\n",
    "Der = (normdB / normB) * cond\n",
    "#Tan solo nos queda mostrarlo por pantalla:\n",
    "print('La desigualdad que se obtiene es:')\n",
    "print(Izq,'<=', Der)\n"
   ]
  },
  {
   "cell_type": "markdown",
   "metadata": {},
   "source": [
    "**Ejercicio 5.** Obtener toda la información que sea posible sobre los autovalores y autovectores de la matriz A, utilizando única y exclusivamente el método de la potencia, el método de la potencia inversa, y el método de la potencia desplazada inversa con desplazamiento de $9$, en los tres casos a partir del vector inicial \n",
    "\n",
    "$$X_0=\\begin{pmatrix} 1 \\\\ 0\\\\ 0\\\\ 0\\\\ 0 \\end{pmatrix}$$\n",
    "\n",
    "Indicar también la localización de los autovalores que aún faltan por calcular. Se valorará positivamente la corrección de los razonamientos a partir de la información disponible."
   ]
  },
  {
   "cell_type": "markdown",
   "metadata": {},
   "source": [
    "-------"
   ]
  },
  {
   "cell_type": "code",
   "execution_count": 33,
   "metadata": {},
   "outputs": [
    {
     "name": "stdout",
     "output_type": "stream",
     "text": [
      "No se tiene convergencia\n",
      "Las normas:\n",
      " ERROR potencia: no se alcanza convergencia.\n",
      "Las lambdas:\n",
      " 0\n",
      "Los autovectires:\n",
      " 0\n"
     ]
    }
   ],
   "source": [
    "X = array([[1],[0],[0],[0],[0]])\n",
    "\n",
    "#METODO DE POTENCIA\n",
    "\n",
    "E, norm, lam, xs = potencia(A, X, inf, 100, 1e-15)\n",
    "if E:\n",
    "    print('La norma convergen a:\\n',norm)\n",
    "    print('La lambda convergen a:\\n',lam)\n",
    "    print('EL autovector convergen a:\\n',xs)\n",
    "else:\n",
    "    print('No se tiene convergencia')\n",
    "    print('Las normas:\\n',norm)\n",
    "    print('Las lambdas:\\n',lam)\n",
    "    print('EL autovector:\\n',xs)\n",
    "    \n",
    "#No hay convergencia, se puede tratar por ejemplo de un numero complejo y su conjugado (mismo autovalor)\n",
    "    "
   ]
  },
  {
   "cell_type": "code",
   "execution_count": 36,
   "metadata": {},
   "outputs": [
    {
     "name": "stdout",
     "output_type": "stream",
     "text": [
      "\n",
      " Potenciainv: convergencia numérica alcanzada.\n",
      "La norma convergen a:\n",
      " 0.3333333333333333\n",
      "La lambda convergen a:\n",
      " [ 0.33333333+0.j  0.33333333+0.j  0.11111111+0.j -0.33333333+0.j\n",
      " -0.33333333+0.j]\n",
      "EL autovector convergen a:\n",
      " [[-0.5 ]\n",
      " [-1.  ]\n",
      " [-0.25]\n",
      " [ 0.5 ]\n",
      " [ 0.25]]\n"
     ]
    }
   ],
   "source": [
    "X = array([[1],[0],[0],[0],[0]])\n",
    "\n",
    "#METODO DE POTENCIA INVERSA\n",
    "\n",
    "E, norm, lam, xs = potenciainv(A, X, inf, 100, 1e-15)\n",
    "if E:\n",
    "    print('La norma convergen a:\\n',norm)\n",
    "    print('La lambda convergen a:\\n',lam)\n",
    "    print('EL autovector convergen a:\\n',xs)\n",
    "else:\n",
    "    print('No se tiene convergencia')\n",
    "    print('Las normas:\\n',norm)\n",
    "    print('Las lambdas:\\n',lam)\n",
    "    print('EL autovector:\\n',xs)\n",
    "    \n",
    "#Se observa que si hay convergencia, por lo que aplicamos que los autovalores de A^-1 son 1/lambdas donde lambdas\n",
    "#son los autovalores de A, por lo que el menor autovalor de A es el mayor autovalor de A^-1. Aplicando lo obtenido\n",
    "#Tenemos que 1/(-1/3)=-3 es el menor autovalor de A\n",
    "    "
   ]
  },
  {
   "cell_type": "code",
   "execution_count": 37,
   "metadata": {},
   "outputs": [
    {
     "name": "stdout",
     "output_type": "stream",
     "text": [
      "\n",
      " Potenciainv: convergencia numérica alcanzada.\n",
      "La norma convergen a:\n",
      " 0.3333333333333333\n",
      "La lambda convergen a:\n",
      " [ 0.33333333+0.j  0.33333333+0.j  0.11111111+0.j -0.33333333+0.j\n",
      " -0.33333333+0.j]\n",
      "EL autovector convergen a:\n",
      " [[-0.5 ]\n",
      " [-1.  ]\n",
      " [-0.25]\n",
      " [ 0.5 ]\n",
      " [ 0.25]]\n",
      "-9\n"
     ]
    }
   ],
   "source": [
    "X = array([[1],[0],[0],[0],[0]])\n",
    "\n",
    "#METODO DE POTENCIA DESPLAZADA INVERSA\n",
    "\n",
    "E, norm, lam, xs = potenciadesinv(A, X, 9, inf, 100, 1e-15)\n",
    "if E:\n",
    "    print('La norma convergen a:\\n',norm)\n",
    "    print('La lambda convergen a:\\n',lam)\n",
    "    print('EL autovector convergen a:\\n',xs)\n",
    "else:\n",
    "    print('No se tiene convergencia')\n",
    "    print('Las normas:\\n',norm)\n",
    "    print('Las lambdas:\\n',lam)\n",
    "    print('EL autovector:\\n',xs)\n",
    "    \n",
    "     \n",
    "#No hay convergencia, ya que aplicando el proceso que hemos hecho en la potencia inv (pero teniendo en cuenta el desplazamiento)\n",
    "#Obtenemos que algunas componentes de las lambdas tienden a 1(1/3)+9 = 12 y otras -1/(1/3)+9 = 6\n",
    "#Podriamos usar otro desplazamiento mas cerca de 12 o de 6 para confirmar si se tratan alguno de los dos (o ambos) de autovalores\n",
    "#Tambien podemos usar la traza de la matriz para calcular el utlimo autovalor (ya que la suma de los autovalores sera igual a la traza)\n",
    "print(traza(A))"
   ]
  },
  {
   "cell_type": "markdown",
   "metadata": {},
   "source": [
    "**Ejericico 6.** Utilizando el método de la potencia y sus variantes, calcular toda la información posible sobre los autovalores y autovectores de la matriz:\n",
    "\n",
    "$$A=\\begin{pmatrix}\n",
    " 4 & -12 & 4 & 0 & 8\\\\\n",
    "-12 & 4 & 4 & 0 & 8\\\\\n",
    "-8 & -8 & 8 & 4 & 12\\\\\n",
    "-9 & -9 & 7 & 7 & 11\\\\\n",
    "-7 & -7 & 9 & 5 & 9\n",
    "\\end{pmatrix}$$"
   ]
  },
  {
   "cell_type": "markdown",
   "metadata": {},
   "source": [
    "-------"
   ]
  },
  {
   "cell_type": "code",
   "execution_count": 52,
   "metadata": {},
   "outputs": [
    {
     "name": "stdout",
     "output_type": "stream",
     "text": [
      "\n",
      " Potencia: convergencia numérica alcanzada.\n",
      "La norma convergen a:\n",
      " 16.0\n",
      "La lambda convergen a:\n",
      " [16.+0.j 16.+0.j 16.+0.j 16.+0.j 16.+0.j]\n",
      "EL autovector convergen a:\n",
      " [[ 0.57142857]\n",
      " [-1.        ]\n",
      " [-0.42857143]\n",
      " [-0.42857143]\n",
      " [-0.42857143]]\n"
     ]
    }
   ],
   "source": [
    "A = array([[4,-12,4,0,8],[-12,4,4,0,8],[-8,-8,8,4,12],[-9,-9,7,7,11],[-7,-7,9,5,9]])\n",
    "X = array([[1.1],[0],[0],[0.5],[0]])\n",
    "\n",
    "#METODO DE POTENCIA\n",
    "\n",
    "E, norm, lam, xs = potencia(A, X, inf, 100, 1e-15)\n",
    "if E:\n",
    "    print('La norma convergen a:\\n',norm)\n",
    "    print('La lambda convergen a:\\n',lam)\n",
    "    print('EL autovector convergen a:\\n',xs)\n",
    "else:\n",
    "    print('No se tiene convergencia')\n",
    "    print('Las normas:\\n',norm)\n",
    "    print('Las lambdas:\\n',lam)\n",
    "    print('EL autovector:\\n',xs)\n",
    "    \n",
    "#El mayor autovalor es 16\n"
   ]
  },
  {
   "cell_type": "code",
   "execution_count": 40,
   "metadata": {},
   "outputs": [
    {
     "name": "stdout",
     "output_type": "stream",
     "text": [
      "No se tiene convergencia\n",
      "Las normas:\n",
      " ERROR potenciainv: sin factorización LU.\n",
      "Las lambdas:\n",
      " 0\n",
      "EL autovector:\n",
      " 0\n"
     ]
    }
   ],
   "source": [
    "A = array([[4,-12,4,0,8],[-12,4,4,0,8],[-8,-8,8,4,12],[-9,-9,7,7,11],[-7,-7,9,5,9]])\n",
    "X = array([[1.1],[0],[0],[0.5],[0]])\n",
    "\n",
    "#METODO POTENCIA INV\n",
    "\n",
    "E, norm, lam, xs = potenciainv(A, X, inf, 100, 1e-15)\n",
    "if E:\n",
    "    print('La norma convergen a:\\n',norm)\n",
    "    print('La lambda convergen a:\\n',lam)\n",
    "    print('EL autovector convergen a:\\n',xs)\n",
    "else:\n",
    "    print('No se tiene convergencia')\n",
    "    print('Las normas:\\n',norm)\n",
    "    print('Las lambdas:\\n',lam)\n",
    "    print('EL autovector:\\n',xs)\n",
    "    \n",
    "#No hay convergencia, puede ser que se tenga un numero complejo como autovalor de menor valor"
   ]
  },
  {
   "cell_type": "code",
   "execution_count": 58,
   "metadata": {},
   "outputs": [
    {
     "name": "stdout",
     "output_type": "stream",
     "text": [
      "\n",
      " Potenciainv: convergencia numérica alcanzada.\n",
      "La norma convergen a:\n",
      " 1.0000000000000009\n",
      "La lambda convergen a:\n",
      " [1.        +0.j 1.        +0.j 1.        +0.j 1.02941176+0.j\n",
      " 1.        +0.j]\n",
      "EL autovector convergen a:\n",
      " [[-1.0000000e+00]\n",
      " [-1.0000000e+00]\n",
      " [-1.0000000e+00]\n",
      " [-1.2490009e-15]\n",
      " [-1.0000000e+00]]\n"
     ]
    }
   ],
   "source": [
    "A = array([[4,-12,4,0,8],[-12,4,4,0,8],[-8,-8,8,4,12],[-9,-9,7,7,11],[-7,-7,9,5,9]])\n",
    "X = array([[1.1],[0],[0],[0.5],[0]])\n",
    "\n",
    "#METODO DE POTENCIA DESPLAZADA INVERSA\n",
    "\n",
    "E, norm, lam, xs = potenciadesinv(A, X, 3, inf, 100, 1e-15)\n",
    "if E:\n",
    "    print('La norma convergen a:\\n',norm)\n",
    "    print('La lambda convergen a:\\n',lam)\n",
    "    print('EL autovector convergen a:\\n',xs)\n",
    "else:\n",
    "    print('No se tiene convergencia')\n",
    "    print('Las normas:\\n',norm)\n",
    "    print('Las lambdas:\\n',lam)\n",
    "    print('EL autovector:\\n',xs)\n",
    "    \n",
    "#Esta vez si tenemos convergencia, por lo cual el autovalor menor de A seria 1/1+3 = 4\n",
    "    "
   ]
  },
  {
   "cell_type": "code",
   "execution_count": 51,
   "metadata": {},
   "outputs": [
    {
     "name": "stdout",
     "output_type": "stream",
     "text": [
      "\n",
      " Potencia: convergencia numérica alcanzada.\n",
      "La norma convergen a:\n",
      " 12.0\n",
      "La lambda convergen a:\n",
      " [-12.+0.j -12.+0.j -12.+0.j -12.+0.j   0.+0.j]\n",
      "EL autovector convergen a:\n",
      " [[1.]\n",
      " [1.]\n",
      " [1.]\n",
      " [1.]\n",
      " [0.]]\n",
      "\n",
      " Potencia: convergencia numérica alcanzada.\n",
      "La norma convergen a:\n",
      " 16.0\n",
      "La lambda convergen a:\n",
      " [16.+0.j 16.+0.j 16.+0.j 16.+0.j 16.+0.j]\n",
      "EL autovector convergen a:\n",
      " [[ 0.57142857]\n",
      " [-1.        ]\n",
      " [-0.42857143]\n",
      " [-0.42857143]\n",
      " [-0.42857143]]\n"
     ]
    }
   ],
   "source": [
    "A = array([[4,-12,4,0,8],[-12,4,4,0,8],[-8,-8,8,4,12],[-9,-9,7,7,11],[-7,-7,9,5,9]])\n",
    "X = array([[1.1],[0],[0],[0.5],[0]])\n",
    "\n",
    "#METODO DE POTENCIA DESPLAZADA \n",
    "#Sabemos que el mayor es 16 y el menor 4, vamos a buscar \"en medio\".\n",
    "\n",
    "E, norm, lam, xs = potenciades(A, X, 8, inf, 100, 1e-15)\n",
    "if E:\n",
    "    print('La norma convergen a:\\n',norm)\n",
    "    print('La lambda convergen a:\\n',lam)\n",
    "    print('EL autovector convergen a:\\n',xs)\n",
    "else:\n",
    "    print('No se tiene convergencia')\n",
    "    print('Las normas:\\n',norm)\n",
    "    print('Las lambdas:\\n',lam)\n",
    "    print('EL autovector:\\n',xs)\n",
    "    \n",
    "#Obtenemos que un autovalor de A tambien es -12+8 = -4\n",
    "\n",
    "E, norm, lam, xs = potenciades(A, X, 0, inf, 100, 1e-15)\n",
    "if E:\n",
    "    print('La norma convergen a:\\n',norm)\n",
    "    print('La lambda convergen a:\\n',lam)\n",
    "    print('EL autovector convergen a:\\n',xs)\n",
    "else:\n",
    "    print('No se tiene convergencia')\n",
    "    print('Las normas:\\n',norm)\n",
    "    print('Las lambdas:\\n',lam)\n",
    "    print('EL autovector:\\n',xs)\n",
    "    "
   ]
  },
  {
   "cell_type": "code",
   "execution_count": 2,
   "metadata": {},
   "outputs": [
    {
     "name": "stdout",
     "output_type": "stream",
     "text": [
      "\n",
      " Potencia: convergencia numérica alcanzada.\n",
      "La norma convergen a:\n",
      " 13.000000000000002\n",
      "La lambda convergen a:\n",
      " [-13.+0.j -13.+0.j -13.+0.j -13.+0.j   0.+0.j]\n",
      "EL autovector convergen a:\n",
      " [[1.00000000e+00]\n",
      " [1.00000000e+00]\n",
      " [1.00000000e+00]\n",
      " [1.00000000e+00]\n",
      " [2.73285668e-16]]\n",
      "1.2505552149377761e-12\n"
     ]
    }
   ],
   "source": [
    "A = array([[4,-12,4,0,8],[-12,4,4,0,8],[-8,-8,8,4,12],[-9,-9,7,7,11],[-7,-7,9,5,9]])\n",
    "X = array([[1.1],[0],[0],[0.5],[0]])\n",
    "\n",
    "E, norm, lam, xs = potenciades(A, X, 9, inf, 100, 1e-15)\n",
    "if E:\n",
    "    print('La norma convergen a:\\n',norm)\n",
    "    print('La lambda convergen a:\\n',lam)\n",
    "    print('EL autovector convergen a:\\n',xs)\n",
    "else:\n",
    "    print('No se tiene convergencia')\n",
    "    print('Las normas:\\n',norm)\n",
    "    print('Las lambdas:\\n',lam)\n",
    "    print('EL autovector:\\n',xs)\n",
    "    \n",
    "#Nos vuelve a salir el autovalor -13+9 = -4\n",
    "#Por lo que probamos si el 0 es autovalor calculando el det de A\n",
    "print(det(A))\n",
    "#Observamos que es \"0 maquina\", por lo que ya tenemos que el 0 tambien es autovalor"
   ]
  },
  {
   "cell_type": "code",
   "execution_count": 4,
   "metadata": {},
   "outputs": [
    {
     "name": "stdout",
     "output_type": "stream",
     "text": [
      "Ultimo autovalor = 16\n"
     ]
    }
   ],
   "source": [
    "#Para calcular el ultimo autovalor, vamos a usar el truco de la traza (la traza de A es la suma de sus 5 autovalores)\n",
    "#Como tenemos calculados 4, entonces traza - suma de los 4 autovalores = el ultimo autovalor\n",
    "tra = traza(A)\n",
    "print('Ultimo autovalor =',tra-(16)) #-4 y 4 se contrarestan, no vamos a hacer esa operacion innecesaria\n",
    "#Por lo que todos los autovalores de A son 16 (dos veces), -4, 4 y 0"
   ]
  },
  {
   "cell_type": "markdown",
   "metadata": {},
   "source": [
    "**Ejercicio 7** Construir una matriz de orden $n=5$, pentadiagonal, cuyos elementos diagonales valgan $4$, y los elemntos de las dos diagonales superiores e inferiores $-1$. Tomando como vector inicial aquel que tiene todas sus componentes igual a $1$, y aplicando el método de la potencia, calcular su autovalor de módulo mayor y menor; calcular también $\\text{cond}_2(A)$. Ídem para $n=20$."
   ]
  },
  {
   "cell_type": "code",
   "execution_count": 13,
   "metadata": {},
   "outputs": [
    {
     "name": "stdout",
     "output_type": "stream",
     "text": [
      "\n",
      " Potencia: convergencia numérica alcanzada.\n",
      "La norma convergen a:\n",
      " 5.472833909371662\n",
      "La lambda convergen a:\n",
      " [5.47283391+0.j 5.47283391+0.j 5.47283391+0.j 5.47283391+0.j\n",
      " 5.47283391+0.j]\n",
      "EL autovector convergen a:\n",
      " [[ 0.55745377]\n",
      " [ 0.17896318]\n",
      " [-1.        ]\n",
      " [ 0.17896318]\n",
      " [ 0.55745377]]\n",
      "Entonces\n",
      "Autovalor mayor es:  5.47283391\n",
      "\n",
      " Potenciainv: convergencia numérica alcanzada.\n",
      "La norma convergen a:\n",
      " 0.9393484604417343\n",
      "La lambda convergen a:\n",
      " [0.93934846+0.j 0.93934846+0.j 0.93934846+0.j 0.93934846+0.j\n",
      " 0.93934846+0.j]\n",
      "EL autovector convergen a:\n",
      " [[0.62705084]\n",
      " [0.84066532]\n",
      " [1.        ]\n",
      " [0.84066532]\n",
      " [0.62705084]]\n",
      "Entonces\n",
      "Autovalor menor es:  1.0645676685305898\n",
      "Condicionamiento A = 5.277291578041552\n"
     ]
    }
   ],
   "source": [
    "A = eye(5)*4 -eye(5,k=-1)-eye(5,k=-2)-eye(5,k=+1)-eye(5,k=+2)\n",
    "X = ones((5,1))\n",
    "\n",
    "#Metodo potencia\n",
    "E, norm, lam, xs = potencia(A, X, inf, 100, 1e-10)\n",
    "if E:\n",
    "    print('La norma convergen a:\\n',norm)\n",
    "    print('La lambda convergen a:\\n',lam)\n",
    "    print('EL autovector convergen a:\\n',xs)\n",
    "else:\n",
    "    print('No se tiene convergencia')\n",
    "    print('Las normas:\\n',norm)\n",
    "    print('Las lambdas:\\n',lam)\n",
    "    print('EL autovector:\\n',xs)\n",
    "print('Entonces')\n",
    "print('Autovalor mayor es: ',5.47283391)\n",
    "\n",
    "#Metodo potencia inversa\n",
    "E, norm, lam, xs = potenciainv(A, X, inf, 100, 1e-15)\n",
    "if E:\n",
    "    print('La norma convergen a:\\n',norm)\n",
    "    print('La lambda convergen a:\\n',lam)\n",
    "    print('EL autovector convergen a:\\n',xs)\n",
    "else:\n",
    "    print('No se tiene convergencia')\n",
    "    print('Las normas:\\n',norm)\n",
    "    print('Las lambdas:\\n',lam)\n",
    "    print('EL autovector:\\n',xs)\n",
    "print('Entonces')\n",
    "print('Autovalor menor es: ',1/0.93934846)\n",
    "\n",
    "#COnd_2(A). Para ello calculemos las respectivas normas matriciales\n",
    "nA = norma_mat(A, 2)\n",
    "niA = norma_mat(inv(A), 2)\n",
    "print('Condicionamiento A =',nA * niA)"
   ]
  },
  {
   "cell_type": "code",
   "execution_count": 23,
   "metadata": {},
   "outputs": [
    {
     "name": "stdout",
     "output_type": "stream",
     "text": [
      "No se tiene convergencia\n",
      "Las normas:\n",
      " ERROR potencia: no se alcanza convergencia.\n",
      "Las lambdas:\n",
      " 0\n",
      "EL autovector:\n",
      " 0\n",
      "\n",
      " Potenciainv: convergencia numérica alcanzada.\n",
      "La norma convergen a:\n",
      " 9.472840807823628\n",
      "La lambda convergen a:\n",
      " [9.47284081+0.j 9.47284081+0.j 9.47284081+0.j 9.47284081+0.j\n",
      " 9.47284081+0.j 9.47284081+0.j 9.47284081+0.j 9.47284081+0.j\n",
      " 9.47284081+0.j 9.47284081+0.j 9.47284081+0.j 9.47284081+0.j\n",
      " 9.47284081+0.j 9.47284081+0.j 9.47284081+0.j 9.47284081+0.j\n",
      " 9.47284081+0.j 9.47284081+0.j 9.47284081+0.j 9.47284081+0.j]\n",
      "EL autovector convergen a:\n",
      " [[0.20133467]\n",
      " [0.32076005]\n",
      " [0.46332475]\n",
      " [0.58451977]\n",
      " [0.69777367]\n",
      " [0.7945158 ]\n",
      " [0.87507389]\n",
      " [0.93682286]\n",
      " [0.97880609]\n",
      " [1.        ]\n",
      " [1.        ]\n",
      " [0.97880609]\n",
      " [0.93682286]\n",
      " [0.87507389]\n",
      " [0.7945158 ]\n",
      " [0.69777367]\n",
      " [0.58451977]\n",
      " [0.46332475]\n",
      " [0.32076005]\n",
      " [0.20133467]]\n",
      "Entonces\n",
      "Autovalor menor es:  0.10556495354005638\n",
      "Condicionamiento A = 58.52650223651463\n"
     ]
    }
   ],
   "source": [
    "#------PARA_N=20------\n",
    "\n",
    "A = eye(20)*4 -eye(20,k=-1)-eye(20,k=-2)-eye(20,k=+1)-eye(20,k=+2)\n",
    "X = ones((20,1))\n",
    "\n",
    "#Metodo potencia\n",
    "E, norm, lam, xs = potencia(Aa, Xx, inf, 200, 1e-15)\n",
    "if E:\n",
    "    print('La norma convergen a:\\n',norm)\n",
    "    print('La lambda convergen a:\\n',lam)\n",
    "    print('EL autovector convergen a:\\n',xs)\n",
    "else:\n",
    "    print('No se tiene convergencia')\n",
    "    print('Las normas:\\n',norm)\n",
    "    print('Las lambdas:\\n',lam)\n",
    "    print('EL autovector:\\n',xs)\n",
    "#No converge, tendriamos que aplicar potencia desplazada o algun otro metodo. Puede ser que el de mayor sea doble\n",
    "\n",
    "#Metodo potencia inversa\n",
    "E, norm, lam, xs = potenciainv(A, X, inf, 100, 1e-15)\n",
    "if E:\n",
    "    print('La norma convergen a:\\n',norm)\n",
    "    print('La lambda convergen a:\\n',lam)\n",
    "    print('EL autovector convergen a:\\n',xs)\n",
    "else:\n",
    "    print('No se tiene convergencia')\n",
    "    print('Las normas:\\n',norm)\n",
    "    print('Las lambdas:\\n',lam)\n",
    "    print('EL autovector:\\n',xs)\n",
    "print('Entonces')\n",
    "print('Autovalor menor es: ',1/9.47284081)\n",
    "\n",
    "#COnd_2(A). Para ello calculemos las respectivas normas matriciales\n",
    "nA = norma_mat(A, 2)\n",
    "niA = norma_mat(inv(A), 2)\n",
    "print('Condicionamiento A =',nA * niA)"
   ]
  },
  {
   "cell_type": "markdown",
   "metadata": {},
   "source": [
    "-------"
   ]
  },
  {
   "cell_type": "markdown",
   "metadata": {},
   "source": [
    "**Ejercicio 8** Generar de manera aleatoria una matriz (comando ``random.rand``) y obtener toda la información posible sobre sus autovalores y autovectores."
   ]
  },
  {
   "cell_type": "markdown",
   "metadata": {},
   "source": [
    "-------"
   ]
  },
  {
   "cell_type": "code",
   "execution_count": 31,
   "metadata": {},
   "outputs": [
    {
     "name": "stdout",
     "output_type": "stream",
     "text": [
      "Sea la matriz=\n",
      " [[0.87816852 0.11365589 0.02752553]\n",
      " [0.04008057 0.56573497 0.44418214]\n",
      " [0.61183293 0.4455735  0.68140356]]\n",
      "Sea el vector inicial=\n",
      " [[0.14056646]\n",
      " [0.04089746]\n",
      " [0.59641335]]\n",
      "METODO DE POTENCIA\n",
      "\n",
      " Potencia: convergencia numérica alcanzada.\n",
      "La lambda convergen a:\n",
      " [1.2046352+0.j 1.2046352+0.j 1.2046352+0.j]\n",
      "EL autovector convergen a:\n",
      " [[0.33363672]\n",
      " [0.71615953]\n",
      " [1.        ]]\n",
      "METODO POTENCIA INV\n",
      "\n",
      " Potenciainv: convergencia numérica alcanzada.\n",
      "La lambda convergen a:\n",
      " [4.62539603+0.j 4.62539603+0.j 4.62539603+0.j]\n",
      "EL autovector convergen a:\n",
      " [[ 0.13949539]\n",
      " [-1.        ]\n",
      " [ 0.77433597]]\n",
      "METODO DE POTENCIA DESPLAZADA \n",
      "\n",
      " Potencia: convergencia numérica alcanzada.\n",
      "La lambda convergen a:\n",
      " [-1.7838023+0.j -1.7838023+0.j -1.7838023+0.j]\n",
      "EL autovector convergen a:\n",
      " [[-0.13949539]\n",
      " [ 1.        ]\n",
      " [-0.77433597]]\n"
     ]
    }
   ],
   "source": [
    "A = random.rand(3, 3)\n",
    "print('Sea la matriz=\\n',A)\n",
    "X = random.rand(3, 1)\n",
    "print('Sea el vector inicial=\\n',X)\n",
    "\n",
    "#METODO DE POTENCIA\n",
    "print('METODO DE POTENCIA')\n",
    "E, norm, lam, xs = potencia(A, X, inf, 200, 1e-15)\n",
    "if E:\n",
    "    print('La lambda convergen a:\\n',lam)\n",
    "    print('EL autovector convergen a:\\n',xs)\n",
    "else:\n",
    "    print('No se tiene convergencia')\n",
    "    \n",
    "    \n",
    "#METODO POTENCIA INV\n",
    "print('METODO POTENCIA INV')\n",
    "E, norm, lam, xs = potenciainv(A, X, inf, 100, 1e-15)\n",
    "if E:\n",
    "    print('La lambda convergen a:\\n',lam)\n",
    "    print('EL autovector convergen a:\\n',xs)\n",
    "else:\n",
    "    print('No se tiene convergencia')\n",
    "#No se nos debe olvidar que el valor obtenido es el menor autovalor de A tal que 1/(mayor autovalor de A^-1)\n",
    "        \n",
    "#METODO DE POTENCIA DESPLAZADA \n",
    "print('METODO DE POTENCIA DESPLAZADA ')\n",
    "E, norm, lam, xs = potenciades(A, X, 2, inf, 100, 1e-15)\n",
    "if E:\n",
    "    print('La lambda convergen a:\\n',lam)\n",
    "    print('EL autovector convergen a:\\n',xs)\n",
    "else:\n",
    "    print('No se tiene convergencia')\n",
    "#El valor obtenido hay que sumarle 2 (ya que es desplazada en 2)\n",
    "    \n",
    "    \n",
    "#Si tenemos el autovalor mayor = x y el autovalor menor = y, traza(E)-(x+y) = z (el ultimo autovalor)\n",
    "#Podemos comprobar si 0 es autovalor si det(E) = 0"
   ]
  }
 ],
 "metadata": {
  "kernelspec": {
   "display_name": "Python 3",
   "language": "python",
   "name": "python3"
  },
  "language_info": {
   "codemirror_mode": {
    "name": "ipython",
    "version": 3
   },
   "file_extension": ".py",
   "mimetype": "text/x-python",
   "name": "python",
   "nbconvert_exporter": "python",
   "pygments_lexer": "ipython3",
   "version": "3.8.3"
  }
 },
 "nbformat": 4,
 "nbformat_minor": 4
}
